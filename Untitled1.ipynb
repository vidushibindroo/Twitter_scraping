{
 "cells": [
  {
   "cell_type": "code",
   "execution_count": 48,
   "metadata": {},
   "outputs": [
    {
     "name": "stdout",
     "output_type": "stream",
     "text": [
      "enter something to search:@narendramodi\n",
      "['Shared my thoughts about the rich and noble ideals of Lord Basavanna in the video conference - Global Basava Jayanthi – 2020.https://youtu.be/Q-3eTUePcjI\\xa0', 'समस्त देशवासियों को परशुराम जयंती की हार्दिक बधाई। तप, बल और साहस के प्रतीक भगवान परशुराम के आदर्श युगों-युगों तक लोगों को प्रेरित करते रहेंगे।', 'प्रकृति, विकृति और संस्कृति, इन शब्दों के पीछे के भाव को देखें तो जीवन को समझने का एक नया द्वार खुलता है। \\n\\nभारत ने प्रकृति, विकृति की सोच से परे अपनी संस्कृति के अनुरूप फैसला लिया। \\n\\nहमने देश की जरूरतों के साथ ही दुनियाभर से आ रही मानवता की रक्षा की पुकार को भी ध्यान में रखा।pic.twitter.com/IEdxBfkbAS', 'India cherishes the role of all those working on the frontline, protecting people and saving lives. \\n\\nThe Epidemic Diseases (Amendment) Ordinance, 2020 has been hailed by people of all sections of society. #MannKiBaatpic.twitter.com/lnqKmGFk4r', 'Let’s further popularise our traditional systems that can improve immunity as well as health. #MannKiBaatpic.twitter.com/GSgi1R3N7I', 'Ramzan this year is taking place while we are in the midst of the battle against COVID-19. \\n\\nLet’s take the right precautions today so that the coming Id-Ul-Fitr can be marked in the same way as it has been done earlier. #MannKiBaatpic.twitter.com/gVtIHKrkuv', 'Now there is:\\n\\nRealisation on the need to wear masks, including homemade options. \\n\\nAwareness on the need to end spitting, especially in public places. #MannKiBaatpic.twitter.com/oKsnL3AU9P', 'India’s fight against COVID-19 is people driven.\\n\\nProud of our 130 crore citizens who have risen to the occasion and are doing whatever they can to free our nation from the Coronavirus menace. #MannKiBaatpic.twitter.com/vvs1xD9T6w', \"आप सबको अक्षय तृतीया की हार्दिक शुभकामनाएं।आइए, हम मिलकर अपने प्रयासों से अपनी धरती को ‘अक्षय’ और ‘अविनाशी’ बनाने का संकल्प लें।\\n\\nयह पर्व 'दान की शक्ति' का भी एक अवसर होता है। ऐसे में हमारा छोटा सा प्रयास भी लोगों के लिए बड़ा संबल बन सकता है।pic.twitter.com/St1DOBMgks\", 'Here is #MannKiBaat April 2020.https://www.pscp.tv/w/cXPCYDMyMjExNTJ8MU1ZeE5rUE5MTG5Ld6aA1mK44anlD52i9dv77VErMfLs4LrAQqD61efngGjq\\xa0…', \"Have been getting several insightful inputs for this month's #MannKiBaat. Do tune at 11 AM tomorrow.pic.twitter.com/bwPKfiXOYC\", 'Commendable. \\n\\nSuch efforts are important in the battle against COVID-19.https://twitter.com/ani/status/1253817870993285120\\xa0…', 'Kudos to the @IndiaPostOffice Network, our hardworking postmen for their stupendous efforts in assisting people during this time.https://twitter.com/rsprasad/status/1253950131486863362\\xa0…', 'Ramzan Mubarak! I pray for everyone’s safety, well-being and prosperity. May this Holy Month bring with it abundance of kindness, harmony and compassion. May we achieve a decisive victory in the ongoing battle against COVID-19 and create a healthier planet.', 'ग्रामीण भारत के लोगों को उनकी संपत्ति का मालिकाना हक दिलाने और उन्हें आर्थिक रूप से सशक्त बनाने के लिए आज सरकार ने स्वामित्व योजना का शुभारंभ किया।pic.twitter.com/ySE3mRD8kw', 'देश की सभी पंचायतों के एकीकृत संचालन, उनके विकास कार्यों की प्रभावी देखरेख और समस्त जानकारियों को एक प्लेटफॉर्म पर लाने के लिए आज हमने e-GramSwaraj ऐप राष्ट्र को समर्पित किया है।pic.twitter.com/ARxxEWCelO', 'Best wishes to Goa CM @DrPramodPSawant Ji on his birthday. May he be blessed with a long and healthy life in service of the people.', 'Today’s discussion with Panchayat Sarpanchs was very insightful. They shared their strategies of fighting COVID-19. I salute all Sarpanchs for their hardwork and efforts in these extraordinary times.http://nm-4.com/0cd9\\xa0', 'Interacting with Sarpanchs across the country through Video-Conferencing on Panchayati Raj Divas.https://www.pscp.tv/w/cXEjVTMyMjExNTJ8MWVhS2JRdnJNUFl4WKVwm6zL-gOLYP6a2tuYLWdwE6jbhymIBMPd0QlASDm6\\xa0…', 'Some of the steps taken to help the most vulnerable...https://twitter.com/FinMinIndia/status/1253216546689703937\\xa0…']\n"
     ]
    }
   ],
   "source": [
    "#!/usr/bin/env python\n",
    "# coding: utf-8\n",
    "\n",
    "# In[ ]:\n",
    "\n",
    "\n",
    "import requests,webbrowser\n",
    "from bs4 import BeautifulSoup\n",
    "import re\n",
    "import pandas as pd\n",
    "import numpy as np\n",
    "import matplotlib.pyplot as plt\n",
    "import json\n",
    "\n",
    "# scraping the website\n",
    "user_input= input(\"enter something to search:\")\n",
    "google_search = requests.get(\"https://twitter.com/\"+user_input)\n",
    "soup=BeautifulSoup(google_search.text, 'html.parser')\n",
    "\n",
    "\n",
    "        \n",
    "\n",
    "\n",
    "for link in soup.find_all('div',class_=\"css-901oao r-jwli3a r-1qd0xha r-a023e6 r-16dba41 r-ad9z0x r-bcqeeo r-bnwqim r-qvutc0\"):\n",
    "    print(link.span.text)\n",
    "\n",
    "def get_tweet(soup):\n",
    "    tweets_list=list()\n",
    "    tweets = soup.find_all(\"li\", {\"data-item-type\": \"tweet\"})\n",
    "    for tweet in tweets:\n",
    "        tweet_text_box = tweet.find(\"p\", {\"class\": \"TweetTextSize TweetTextSize--normal js-tweet-text tweet-text\"})\n",
    "        tweet_text = tweet_text_box.text\n",
    "        tweets_list.append(tweet_text)\n",
    "\n",
    "    return(tweets_list)\n",
    "print(tweets_list)\n",
    "\n",
    "\n"
   ]
  },
  {
   "cell_type": "code",
   "execution_count": 35,
   "metadata": {},
   "outputs": [
    {
     "ename": "AttributeError",
     "evalue": "'str' object has no attribute 'get_text'",
     "output_type": "error",
     "traceback": [
      "\u001b[1;31m---------------------------------------------------------------------------\u001b[0m",
      "\u001b[1;31mAttributeError\u001b[0m                            Traceback (most recent call last)",
      "\u001b[1;32m<ipython-input-35-484f400bc323>\u001b[0m in \u001b[0;36m<module>\u001b[1;34m\u001b[0m\n\u001b[0;32m      1\u001b[0m \u001b[0mx\u001b[0m\u001b[1;33m=\u001b[0m\u001b[1;33m[\u001b[0m\u001b[1;33m]\u001b[0m\u001b[1;33m\u001b[0m\u001b[1;33m\u001b[0m\u001b[0m\n\u001b[0;32m      2\u001b[0m \u001b[1;32mfor\u001b[0m \u001b[0mtweet\u001b[0m \u001b[1;32min\u001b[0m \u001b[0mtweets_list\u001b[0m\u001b[1;33m:\u001b[0m\u001b[1;33m\u001b[0m\u001b[1;33m\u001b[0m\u001b[0m\n\u001b[1;32m----> 3\u001b[1;33m     \u001b[0mactual\u001b[0m\u001b[1;33m=\u001b[0m\u001b[0mtweet\u001b[0m\u001b[1;33m.\u001b[0m\u001b[0mget_text\u001b[0m\u001b[1;33m(\u001b[0m\u001b[1;33m)\u001b[0m\u001b[1;33m\u001b[0m\u001b[1;33m\u001b[0m\u001b[0m\n\u001b[0m\u001b[0;32m      4\u001b[0m     \u001b[0msentences\u001b[0m \u001b[1;33m=\u001b[0m \u001b[0mre\u001b[0m\u001b[1;33m.\u001b[0m\u001b[0msplit\u001b[0m\u001b[1;33m(\u001b[0m\u001b[1;34mr' *[\\.\\?!][\\'\"\\)\\]]* *'\u001b[0m\u001b[1;33m,\u001b[0m \u001b[0mactual\u001b[0m\u001b[1;33m)\u001b[0m\u001b[1;33m\u001b[0m\u001b[1;33m\u001b[0m\u001b[0m\n\u001b[0;32m      5\u001b[0m     \u001b[1;32mfor\u001b[0m \u001b[0mstuff\u001b[0m \u001b[1;32min\u001b[0m \u001b[0msentences\u001b[0m\u001b[1;33m:\u001b[0m\u001b[1;33m\u001b[0m\u001b[1;33m\u001b[0m\u001b[0m\n",
      "\u001b[1;31mAttributeError\u001b[0m: 'str' object has no attribute 'get_text'"
     ]
    }
   ],
   "source": [
    "x=[]\n",
    "for tweet in tweets_list:\n",
    "    actual=tweet.get_text()\n",
    "    sentences = re.split(r' *[\\.\\?!][\\'\"\\)\\]]* *', actual)\n",
    "    for stuff in sentences:\n",
    "        x.append(stuff)\n",
    "    print(x)\n",
    "\n"
   ]
  },
  {
   "cell_type": "code",
   "execution_count": 41,
   "metadata": {},
   "outputs": [],
   "source": [
    "df = pd.DataFrame(tweets_list,columns=['Tweets'])\n",
    "df.to_csv('tweets.csv')\n"
   ]
  },
  {
   "cell_type": "code",
   "execution_count": 45,
   "metadata": {},
   "outputs": [],
   "source": [
    "df.to_excel(\"output.xlsx\",\n",
    "\n",
    "             sheet_name='Sheet_name_1')"
   ]
  },
  {
   "cell_type": "code",
   "execution_count": 69,
   "metadata": {},
   "outputs": [],
   "source": [
    "\n",
    "\n"
   ]
  },
  {
   "cell_type": "code",
   "execution_count": 70,
   "metadata": {},
   "outputs": [
    {
     "ename": "AttributeError",
     "evalue": "'NoneType' object has no attribute 'text'",
     "output_type": "error",
     "traceback": [
      "\u001b[1;31m---------------------------------------------------------------------------\u001b[0m",
      "\u001b[1;31mAttributeError\u001b[0m                            Traceback (most recent call last)",
      "\u001b[1;32m<ipython-input-70-da85b137fca1>\u001b[0m in \u001b[0;36m<module>\u001b[1;34m\u001b[0m\n\u001b[1;32m----> 1\u001b[1;33m \u001b[0mtweets\u001b[0m \u001b[1;33m=\u001b[0m \u001b[0mget_tweet_data\u001b[0m\u001b[1;33m(\u001b[0m\u001b[0muser_input\u001b[0m\u001b[1;33m,\u001b[0m \u001b[0msoup\u001b[0m\u001b[1;33m)\u001b[0m\u001b[1;33m\u001b[0m\u001b[1;33m\u001b[0m\u001b[0m\n\u001b[0m\u001b[0;32m      2\u001b[0m \u001b[1;32mdef\u001b[0m \u001b[0mdump_data\u001b[0m\u001b[1;33m(\u001b[0m\u001b[0muser_input\u001b[0m\u001b[1;33m,\u001b[0m \u001b[0mtweets\u001b[0m\u001b[1;33m)\u001b[0m\u001b[1;33m:\u001b[0m\u001b[1;33m\u001b[0m\u001b[1;33m\u001b[0m\u001b[0m\n\u001b[0;32m      3\u001b[0m     \u001b[0mfilename\u001b[0m \u001b[1;33m=\u001b[0m \u001b[0muser_input\u001b[0m\u001b[1;33m+\u001b[0m\u001b[1;34m\"_twitter.json\"\u001b[0m\u001b[1;33m\u001b[0m\u001b[1;33m\u001b[0m\u001b[0m\n\u001b[0;32m      4\u001b[0m     \u001b[0mprint\u001b[0m\u001b[1;33m(\u001b[0m\u001b[1;34m\"\\nDumping data in file \"\u001b[0m \u001b[1;33m+\u001b[0m \u001b[0mfilename\u001b[0m\u001b[1;33m)\u001b[0m\u001b[1;33m\u001b[0m\u001b[1;33m\u001b[0m\u001b[0m\n\u001b[0;32m      5\u001b[0m     \u001b[0mdata\u001b[0m \u001b[1;33m=\u001b[0m \u001b[0mdict\u001b[0m\u001b[1;33m(\u001b[0m\u001b[1;33m)\u001b[0m\u001b[1;33m\u001b[0m\u001b[1;33m\u001b[0m\u001b[0m\n",
      "\u001b[1;32m<ipython-input-69-bd118cebf0b8>\u001b[0m in \u001b[0;36mget_tweet_data\u001b[1;34m(user_input, soup)\u001b[0m\n\u001b[0;32m     23\u001b[0m         \u001b[0mhtml\u001b[0m \u001b[1;33m=\u001b[0m \u001b[0mtweets_obj\u001b[0m\u001b[1;33m[\u001b[0m\u001b[1;34m\"items_html\"\u001b[0m\u001b[1;33m]\u001b[0m\u001b[1;33m\u001b[0m\u001b[1;33m\u001b[0m\u001b[0m\n\u001b[0;32m     24\u001b[0m         \u001b[0msoup\u001b[0m \u001b[1;33m=\u001b[0m \u001b[0mBeautifulSoup\u001b[0m\u001b[1;33m(\u001b[0m\u001b[0mhtml\u001b[0m\u001b[1;33m,\u001b[0m \u001b[1;34m'html.parser'\u001b[0m\u001b[1;33m)\u001b[0m\u001b[1;33m\u001b[0m\u001b[1;33m\u001b[0m\u001b[0m\n\u001b[1;32m---> 25\u001b[1;33m         \u001b[0mtweets_list\u001b[0m\u001b[1;33m.\u001b[0m\u001b[0mextend\u001b[0m\u001b[1;33m(\u001b[0m\u001b[0mget_tweet\u001b[0m\u001b[1;33m(\u001b[0m\u001b[0msoup\u001b[0m\u001b[1;33m)\u001b[0m\u001b[1;33m)\u001b[0m\u001b[1;33m\u001b[0m\u001b[1;33m\u001b[0m\u001b[0m\n\u001b[0m\u001b[0;32m     26\u001b[0m     \u001b[1;32mreturn\u001b[0m \u001b[0mtweets_list\u001b[0m\u001b[1;33m\u001b[0m\u001b[1;33m\u001b[0m\u001b[0m\n\u001b[0;32m     27\u001b[0m \u001b[1;33m\u001b[0m\u001b[0m\n",
      "\u001b[1;32m<ipython-input-48-89276e751b26>\u001b[0m in \u001b[0;36mget_tweet\u001b[1;34m(soup)\u001b[0m\n\u001b[0;32m     30\u001b[0m     \u001b[1;32mfor\u001b[0m \u001b[0mtweet\u001b[0m \u001b[1;32min\u001b[0m \u001b[0mtweets\u001b[0m\u001b[1;33m:\u001b[0m\u001b[1;33m\u001b[0m\u001b[1;33m\u001b[0m\u001b[0m\n\u001b[0;32m     31\u001b[0m         \u001b[0mtweet_text_box\u001b[0m \u001b[1;33m=\u001b[0m \u001b[0mtweet\u001b[0m\u001b[1;33m.\u001b[0m\u001b[0mfind\u001b[0m\u001b[1;33m(\u001b[0m\u001b[1;34m\"p\"\u001b[0m\u001b[1;33m,\u001b[0m \u001b[1;33m{\u001b[0m\u001b[1;34m\"class\"\u001b[0m\u001b[1;33m:\u001b[0m \u001b[1;34m\"TweetTextSize TweetTextSize--normal js-tweet-text tweet-text\"\u001b[0m\u001b[1;33m}\u001b[0m\u001b[1;33m)\u001b[0m\u001b[1;33m\u001b[0m\u001b[1;33m\u001b[0m\u001b[0m\n\u001b[1;32m---> 32\u001b[1;33m         \u001b[0mtweet_text\u001b[0m \u001b[1;33m=\u001b[0m \u001b[0mtweet_text_box\u001b[0m\u001b[1;33m.\u001b[0m\u001b[0mtext\u001b[0m\u001b[1;33m\u001b[0m\u001b[1;33m\u001b[0m\u001b[0m\n\u001b[0m\u001b[0;32m     33\u001b[0m         \u001b[0mtweets_list\u001b[0m\u001b[1;33m.\u001b[0m\u001b[0mappend\u001b[0m\u001b[1;33m(\u001b[0m\u001b[0mtweet_text\u001b[0m\u001b[1;33m)\u001b[0m\u001b[1;33m\u001b[0m\u001b[1;33m\u001b[0m\u001b[0m\n\u001b[0;32m     34\u001b[0m \u001b[1;33m\u001b[0m\u001b[0m\n",
      "\u001b[1;31mAttributeError\u001b[0m: 'NoneType' object has no attribute 'text'"
     ]
    }
   ],
   "source": []
  },
  {
   "cell_type": "code",
   "execution_count": null,
   "metadata": {},
   "outputs": [],
   "source": []
  }
 ],
 "metadata": {
  "kernelspec": {
   "display_name": "Python 3",
   "language": "python",
   "name": "python3"
  },
  "language_info": {
   "codemirror_mode": {
    "name": "ipython",
    "version": 3
   },
   "file_extension": ".py",
   "mimetype": "text/x-python",
   "name": "python",
   "nbconvert_exporter": "python",
   "pygments_lexer": "ipython3",
   "version": "3.7.1"
  }
 },
 "nbformat": 4,
 "nbformat_minor": 2
}
